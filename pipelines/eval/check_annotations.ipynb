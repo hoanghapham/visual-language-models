{
 "cells": [
  {
   "cell_type": "code",
   "execution_count": null,
   "id": "f94b2fd9",
   "metadata": {},
   "outputs": [],
   "source": [
    "#%%\n",
    "import sys\n",
    "from pathlib import Path\n",
    "from argparse import ArgumentParser\n",
    "from PIL.Image import Image as PILImage\n",
    "\n",
    "PROJECT_DIR = Path().cwd().parent.parent\n",
    "sys.path.append(str(PROJECT_DIR))\n",
    "\n",
    "from src.file_tools import list_files, write_json_file, write_text_file\n",
    "from src.data_processing.visual_tasks import IMAGE_EXTENSIONS, crop_image\n",
    "from src.data_processing.utils import XMLParser\n",
    "from src.evaluation.utils import Ratio\n",
    "\n",
    "DATA_DIR = PROJECT_DIR / \"data/raw/riksarkivet\"\n",
    "\n",
    "img_paths = list_files(DATA_DIR, IMAGE_EXTENSIONS)\n",
    "xml_paths = list_files(DATA_DIR, [\".xml\"])"
   ]
  },
  {
   "cell_type": "code",
   "execution_count": null,
   "id": "4cf82291",
   "metadata": {},
   "outputs": [],
   "source": [
    "\n",
    "page_blank_line_ratios = []\n",
    "\n",
    "for img_path, xml_path in zip(img_paths, xml_paths):\n",
    "    # img = PILImage.open(img_path)\n",
    "    xml_parser = XMLParser()\n",
    "    lines = xml_parser.get_lines(xml_path)\n",
    "\n",
    "    blank = 0\n",
    "    for line in lines:\n",
    "        if line[\"transcription\"] == \"\":\n",
    "            blank += 1\n",
    "\n",
    "    page_blank_line_ratios.append(Ratio(blank, len(lines)))\n"
   ]
  },
  {
   "cell_type": "code",
   "execution_count": 15,
   "id": "c07d8c57",
   "metadata": {},
   "outputs": [],
   "source": [
    "page_blank_line_pct = [float(ratio) for ratio in page_blank_line_ratios]"
   ]
  },
  {
   "cell_type": "code",
   "execution_count": 21,
   "id": "22ac5aa0",
   "metadata": {},
   "outputs": [
    {
     "data": {
      "text/plain": [
       "9412"
      ]
     },
     "execution_count": 21,
     "metadata": {},
     "output_type": "execute_result"
    }
   ],
   "source": [
    "import numpy as np\n",
    "\n",
    "(np.array(page_blank_line_pct) < 0.5).sum()"
   ]
  },
  {
   "cell_type": "code",
   "execution_count": 27,
   "id": "797a4f7c",
   "metadata": {},
   "outputs": [
    {
     "data": {
      "text/plain": [
       "232"
      ]
     },
     "execution_count": 27,
     "metadata": {},
     "output_type": "execute_result"
    }
   ],
   "source": [
    "(np.array(sorted(page_blank_line_pct, reverse=True)) > 0.5).sum()"
   ]
  },
  {
   "cell_type": "code",
   "execution_count": null,
   "id": "1ccf11f0",
   "metadata": {},
   "outputs": [],
   "source": []
  }
 ],
 "metadata": {
  "kernelspec": {
   "display_name": "vlm",
   "language": "python",
   "name": "python3"
  },
  "language_info": {
   "codemirror_mode": {
    "name": "ipython",
    "version": 3
   },
   "file_extension": ".py",
   "mimetype": "text/x-python",
   "name": "python",
   "nbconvert_exporter": "python",
   "pygments_lexer": "ipython3",
   "version": "3.11.5"
  }
 },
 "nbformat": 4,
 "nbformat_minor": 5
}
